{
 "cells": [
  {
   "cell_type": "code",
   "execution_count": 2,
   "id": "fa946d4a",
   "metadata": {},
   "outputs": [],
   "source": [
    "import pandas as pd\n",
    "import numpy as np \n",
    "import os"
   ]
  },
  {
   "cell_type": "code",
   "execution_count": 3,
   "id": "2af1f04b",
   "metadata": {},
   "outputs": [],
   "source": [
    "path = r'/Users/daniel/Library/CloudStorage/OneDrive-Persönlich/00 Synology/01 Dokumente/2023 Docs/99 CareerFoundry/06 Advanced Analytics'"
   ]
  },
  {
   "cell_type": "code",
   "execution_count": 4,
   "id": "e8e145ee",
   "metadata": {},
   "outputs": [],
   "source": [
    "citi = pd.read_csv(os.path.join(path, '01 Data', 'citibike.csv'))"
   ]
  },
  {
   "cell_type": "code",
   "execution_count": 5,
   "id": "afd45e12",
   "metadata": {},
   "outputs": [
    {
     "data": {
      "text/plain": [
       "Index(['trip_id', 'bike_id', 'weekday', 'start_hour', 'start_time',\n",
       "       'start_station_id', 'start_station_name', 'start_station_latitude',\n",
       "       'start_station_longitude', 'end_time', 'end_station_id',\n",
       "       'end_station_name', 'end_station_latitude', 'end_station_longitude',\n",
       "       'trip_duration', 'subscriber', 'birth_year', 'gender'],\n",
       "      dtype='object')"
      ]
     },
     "execution_count": 5,
     "metadata": {},
     "output_type": "execute_result"
    }
   ],
   "source": [
    "citi.columns"
   ]
  },
  {
   "cell_type": "code",
   "execution_count": 6,
   "id": "27409fe8",
   "metadata": {},
   "outputs": [
    {
     "data": {
      "text/html": [
       "<div>\n",
       "<style scoped>\n",
       "    .dataframe tbody tr th:only-of-type {\n",
       "        vertical-align: middle;\n",
       "    }\n",
       "\n",
       "    .dataframe tbody tr th {\n",
       "        vertical-align: top;\n",
       "    }\n",
       "\n",
       "    .dataframe thead th {\n",
       "        text-align: right;\n",
       "    }\n",
       "</style>\n",
       "<table border=\"1\" class=\"dataframe\">\n",
       "  <thead>\n",
       "    <tr style=\"text-align: right;\">\n",
       "      <th></th>\n",
       "      <th>bike_id</th>\n",
       "      <th>start_hour</th>\n",
       "      <th>start_station_id</th>\n",
       "      <th>start_station_latitude</th>\n",
       "      <th>start_station_longitude</th>\n",
       "      <th>end_station_id</th>\n",
       "      <th>end_station_latitude</th>\n",
       "      <th>end_station_longitude</th>\n",
       "      <th>trip_duration</th>\n",
       "      <th>birth_year</th>\n",
       "      <th>gender</th>\n",
       "    </tr>\n",
       "  </thead>\n",
       "  <tbody>\n",
       "    <tr>\n",
       "      <th>count</th>\n",
       "      <td>50000.000000</td>\n",
       "      <td>50000.000000</td>\n",
       "      <td>50000.000000</td>\n",
       "      <td>50000.000000</td>\n",
       "      <td>50000.000000</td>\n",
       "      <td>50000.000000</td>\n",
       "      <td>50000.000000</td>\n",
       "      <td>50000.000000</td>\n",
       "      <td>50000.000000</td>\n",
       "      <td>43021.000000</td>\n",
       "      <td>50000.000000</td>\n",
       "    </tr>\n",
       "    <tr>\n",
       "      <th>mean</th>\n",
       "      <td>17615.269360</td>\n",
       "      <td>14.145240</td>\n",
       "      <td>443.321500</td>\n",
       "      <td>40.734170</td>\n",
       "      <td>-73.991109</td>\n",
       "      <td>442.539700</td>\n",
       "      <td>40.733859</td>\n",
       "      <td>-73.991351</td>\n",
       "      <td>838.982900</td>\n",
       "      <td>1975.627786</td>\n",
       "      <td>1.073540</td>\n",
       "    </tr>\n",
       "    <tr>\n",
       "      <th>std</th>\n",
       "      <td>1675.407446</td>\n",
       "      <td>4.860541</td>\n",
       "      <td>356.559925</td>\n",
       "      <td>0.019911</td>\n",
       "      <td>0.012555</td>\n",
       "      <td>355.756022</td>\n",
       "      <td>0.019885</td>\n",
       "      <td>0.012569</td>\n",
       "      <td>573.663997</td>\n",
       "      <td>11.089001</td>\n",
       "      <td>0.589389</td>\n",
       "    </tr>\n",
       "    <tr>\n",
       "      <th>min</th>\n",
       "      <td>14556.000000</td>\n",
       "      <td>0.000000</td>\n",
       "      <td>72.000000</td>\n",
       "      <td>40.680342</td>\n",
       "      <td>-74.017134</td>\n",
       "      <td>72.000000</td>\n",
       "      <td>40.680342</td>\n",
       "      <td>-74.017134</td>\n",
       "      <td>60.000000</td>\n",
       "      <td>1899.000000</td>\n",
       "      <td>0.000000</td>\n",
       "    </tr>\n",
       "    <tr>\n",
       "      <th>25%</th>\n",
       "      <td>16188.000000</td>\n",
       "      <td>10.000000</td>\n",
       "      <td>304.000000</td>\n",
       "      <td>40.720196</td>\n",
       "      <td>-74.000271</td>\n",
       "      <td>304.000000</td>\n",
       "      <td>40.720196</td>\n",
       "      <td>-74.001547</td>\n",
       "      <td>417.000000</td>\n",
       "      <td>1968.000000</td>\n",
       "      <td>1.000000</td>\n",
       "    </tr>\n",
       "    <tr>\n",
       "      <th>50%</th>\n",
       "      <td>17584.000000</td>\n",
       "      <td>15.000000</td>\n",
       "      <td>402.000000</td>\n",
       "      <td>40.735877</td>\n",
       "      <td>-73.990765</td>\n",
       "      <td>402.000000</td>\n",
       "      <td>40.735354</td>\n",
       "      <td>-73.991218</td>\n",
       "      <td>672.000000</td>\n",
       "      <td>1978.000000</td>\n",
       "      <td>1.000000</td>\n",
       "    </tr>\n",
       "    <tr>\n",
       "      <th>75%</th>\n",
       "      <td>19014.000000</td>\n",
       "      <td>18.000000</td>\n",
       "      <td>484.000000</td>\n",
       "      <td>40.750020</td>\n",
       "      <td>-73.981923</td>\n",
       "      <td>483.000000</td>\n",
       "      <td>40.749013</td>\n",
       "      <td>-73.982050</td>\n",
       "      <td>1112.000000</td>\n",
       "      <td>1984.000000</td>\n",
       "      <td>1.000000</td>\n",
       "    </tr>\n",
       "    <tr>\n",
       "      <th>max</th>\n",
       "      <td>20642.000000</td>\n",
       "      <td>23.000000</td>\n",
       "      <td>3002.000000</td>\n",
       "      <td>40.770513</td>\n",
       "      <td>-73.950048</td>\n",
       "      <td>3002.000000</td>\n",
       "      <td>40.770513</td>\n",
       "      <td>-73.950048</td>\n",
       "      <td>2697.000000</td>\n",
       "      <td>1997.000000</td>\n",
       "      <td>2.000000</td>\n",
       "    </tr>\n",
       "  </tbody>\n",
       "</table>\n",
       "</div>"
      ],
      "text/plain": [
       "            bike_id    start_hour  start_station_id  start_station_latitude  \\\n",
       "count  50000.000000  50000.000000      50000.000000            50000.000000   \n",
       "mean   17615.269360     14.145240        443.321500               40.734170   \n",
       "std     1675.407446      4.860541        356.559925                0.019911   \n",
       "min    14556.000000      0.000000         72.000000               40.680342   \n",
       "25%    16188.000000     10.000000        304.000000               40.720196   \n",
       "50%    17584.000000     15.000000        402.000000               40.735877   \n",
       "75%    19014.000000     18.000000        484.000000               40.750020   \n",
       "max    20642.000000     23.000000       3002.000000               40.770513   \n",
       "\n",
       "       start_station_longitude  end_station_id  end_station_latitude  \\\n",
       "count             50000.000000    50000.000000          50000.000000   \n",
       "mean                -73.991109      442.539700             40.733859   \n",
       "std                   0.012555      355.756022              0.019885   \n",
       "min                 -74.017134       72.000000             40.680342   \n",
       "25%                 -74.000271      304.000000             40.720196   \n",
       "50%                 -73.990765      402.000000             40.735354   \n",
       "75%                 -73.981923      483.000000             40.749013   \n",
       "max                 -73.950048     3002.000000             40.770513   \n",
       "\n",
       "       end_station_longitude  trip_duration    birth_year        gender  \n",
       "count           50000.000000   50000.000000  43021.000000  50000.000000  \n",
       "mean              -73.991351     838.982900   1975.627786      1.073540  \n",
       "std                 0.012569     573.663997     11.089001      0.589389  \n",
       "min               -74.017134      60.000000   1899.000000      0.000000  \n",
       "25%               -74.001547     417.000000   1968.000000      1.000000  \n",
       "50%               -73.991218     672.000000   1978.000000      1.000000  \n",
       "75%               -73.982050    1112.000000   1984.000000      1.000000  \n",
       "max               -73.950048    2697.000000   1997.000000      2.000000  "
      ]
     },
     "execution_count": 6,
     "metadata": {},
     "output_type": "execute_result"
    }
   ],
   "source": [
    "citi.describe()"
   ]
  },
  {
   "cell_type": "code",
   "execution_count": 7,
   "id": "1b4ce124",
   "metadata": {},
   "outputs": [
    {
     "data": {
      "text/plain": [
       "16188    93\n",
       "20118    91\n",
       "18278    90\n",
       "19755    85\n",
       "17796    85\n",
       "         ..\n",
       "14733     5\n",
       "18603     4\n",
       "16964     3\n",
       "15220     2\n",
       "19465     2\n",
       "Name: bike_id, Length: 996, dtype: int64"
      ]
     },
     "execution_count": 7,
     "metadata": {},
     "output_type": "execute_result"
    }
   ],
   "source": [
    "citi['bike_id'].value_counts()"
   ]
  },
  {
   "cell_type": "code",
   "execution_count": 8,
   "id": "086742f1",
   "metadata": {},
   "outputs": [
    {
     "data": {
      "text/plain": [
       "trip_id                     object\n",
       "bike_id                      int64\n",
       "weekday                     object\n",
       "start_hour                   int64\n",
       "start_time                  object\n",
       "start_station_id             int64\n",
       "start_station_name          object\n",
       "start_station_latitude     float64\n",
       "start_station_longitude    float64\n",
       "end_time                    object\n",
       "end_station_id               int64\n",
       "end_station_name            object\n",
       "end_station_latitude       float64\n",
       "end_station_longitude      float64\n",
       "trip_duration                int64\n",
       "subscriber                  object\n",
       "birth_year                 float64\n",
       "gender                       int64\n",
       "dtype: object"
      ]
     },
     "execution_count": 8,
     "metadata": {},
     "output_type": "execute_result"
    }
   ],
   "source": [
    "citi.dtypes"
   ]
  },
  {
   "cell_type": "code",
   "execution_count": 11,
   "id": "f5ca4e60",
   "metadata": {},
   "outputs": [],
   "source": [
    "# checking for not available items\n",
    "na_count = citi.isna().sum()"
   ]
  },
  {
   "cell_type": "code",
   "execution_count": 10,
   "id": "1cd9bec5",
   "metadata": {},
   "outputs": [
    {
     "data": {
      "text/plain": [
       "trip_id                       0\n",
       "bike_id                       0\n",
       "weekday                       0\n",
       "start_hour                    0\n",
       "start_time                    0\n",
       "start_station_id              0\n",
       "start_station_name            0\n",
       "start_station_latitude        0\n",
       "start_station_longitude       0\n",
       "end_time                      0\n",
       "end_station_id                0\n",
       "end_station_name              0\n",
       "end_station_latitude          0\n",
       "end_station_longitude         0\n",
       "trip_duration                 0\n",
       "subscriber                    0\n",
       "birth_year                 6979\n",
       "gender                        0\n",
       "dtype: int64"
      ]
     },
     "execution_count": 10,
     "metadata": {},
     "output_type": "execute_result"
    }
   ],
   "source": [
    "na_count"
   ]
  },
  {
   "cell_type": "code",
   "execution_count": 12,
   "id": "ba9598a5",
   "metadata": {},
   "outputs": [
    {
     "data": {
      "text/plain": [
       "(50000, 18)"
      ]
     },
     "execution_count": 12,
     "metadata": {},
     "output_type": "execute_result"
    }
   ],
   "source": [
    "citi.shape"
   ]
  },
  {
   "cell_type": "code",
   "execution_count": 13,
   "id": "81434653",
   "metadata": {},
   "outputs": [],
   "source": [
    "citi.dropna(subset=['birth_year'], inplace=True)"
   ]
  },
  {
   "cell_type": "code",
   "execution_count": 14,
   "id": "81863640",
   "metadata": {},
   "outputs": [
    {
     "data": {
      "text/plain": [
       "(43021, 18)"
      ]
     },
     "execution_count": 14,
     "metadata": {},
     "output_type": "execute_result"
    }
   ],
   "source": [
    "citi.shape"
   ]
  },
  {
   "cell_type": "code",
   "execution_count": 15,
   "id": "f17aa084",
   "metadata": {},
   "outputs": [],
   "source": [
    "# Drop rows with '0' as the value in the 'gender' column\n",
    "citi = citi[citi['gender'] != 0]"
   ]
  },
  {
   "cell_type": "code",
   "execution_count": 16,
   "id": "33e86d93",
   "metadata": {},
   "outputs": [
    {
     "data": {
      "text/plain": [
       "(43019, 18)"
      ]
     },
     "execution_count": 16,
     "metadata": {},
     "output_type": "execute_result"
    }
   ],
   "source": [
    "citi.shape"
   ]
  },
  {
   "cell_type": "code",
   "execution_count": 17,
   "id": "cc93b16a",
   "metadata": {},
   "outputs": [
    {
     "name": "stdout",
     "output_type": "stream",
     "text": [
      "Duplicate Rows:\n",
      "Empty DataFrame\n",
      "Columns: [trip_id, bike_id, weekday, start_hour, start_time, start_station_id, start_station_name, start_station_latitude, start_station_longitude, end_time, end_station_id, end_station_name, end_station_latitude, end_station_longitude, trip_duration, subscriber, birth_year, gender]\n",
      "Index: []\n"
     ]
    }
   ],
   "source": [
    "# Check for duplicate rows in the DataFrame\n",
    "duplicates = citi.duplicated()\n",
    "\n",
    "# Display the duplicate rows\n",
    "print(\"Duplicate Rows:\")\n",
    "print(citi[duplicates])"
   ]
  },
  {
   "cell_type": "code",
   "execution_count": 19,
   "id": "67a29761",
   "metadata": {},
   "outputs": [],
   "source": [
    "# Find duplicates another way\n",
    "\n",
    "citi_dups = citi[citi.duplicated()]"
   ]
  },
  {
   "cell_type": "code",
   "execution_count": 20,
   "id": "0baa6e47",
   "metadata": {},
   "outputs": [
    {
     "data": {
      "text/plain": [
       "(0, 18)"
      ]
     },
     "execution_count": 20,
     "metadata": {},
     "output_type": "execute_result"
    }
   ],
   "source": [
    "citi_dups.shape"
   ]
  },
  {
   "cell_type": "markdown",
   "id": "92b04b33",
   "metadata": {},
   "source": [
    "No duplicates."
   ]
  },
  {
   "cell_type": "code",
   "execution_count": 21,
   "id": "db9156aa",
   "metadata": {},
   "outputs": [],
   "source": [
    "#checking for mixed types\n",
    "for col in citi.columns.tolist():\n",
    "      weird = (citi[[col]].applymap(type) != citi[[col]].iloc[0].apply(type)).any(axis = 1)\n",
    "      if len (citi[weird]) > 0:\n",
    "        print (col)\n",
    "        \n",
    "# No mixed-type columns either!"
   ]
  },
  {
   "cell_type": "code",
   "execution_count": 22,
   "id": "194d48af",
   "metadata": {},
   "outputs": [],
   "source": [
    "#export to csv\n",
    "citi.to_csv(os.path.join(path, '01 Data', 'citi_clean.csv'), index = False)"
   ]
  },
  {
   "cell_type": "code",
   "execution_count": 23,
   "id": "c9974d82",
   "metadata": {},
   "outputs": [
    {
     "data": {
      "text/plain": [
       "(43019, 18)"
      ]
     },
     "execution_count": 23,
     "metadata": {},
     "output_type": "execute_result"
    }
   ],
   "source": [
    "citi.shape"
   ]
  }
 ],
 "metadata": {
  "kernelspec": {
   "display_name": "Python 3 (ipykernel)",
   "language": "python",
   "name": "python3"
  },
  "language_info": {
   "codemirror_mode": {
    "name": "ipython",
    "version": 3
   },
   "file_extension": ".py",
   "mimetype": "text/x-python",
   "name": "python",
   "nbconvert_exporter": "python",
   "pygments_lexer": "ipython3",
   "version": "3.10.9"
  }
 },
 "nbformat": 4,
 "nbformat_minor": 5
}
